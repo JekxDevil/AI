{
 "cells": [
  {
   "cell_type": "code",
   "id": "initial_id",
   "metadata": {
    "collapsed": true,
    "jupyter": {
     "is_executing": true
    },
    "ExecuteTime": {
     "start_time": "2024-05-02T10:34:25.535252Z"
    }
   },
   "source": [
    "# Import libraries\n",
    "import io\n",
    "import requests\n",
    "import numpy as np\n",
    "\n",
    "# Load data \n",
    "url = 'https://drive.switch.ch/index.php/s/37RuoA3Mgt9Rqah/download'\n",
    "response = requests.get(url)\n",
    "data = np.load(io.BytesIO(response.content))\n",
    "\n",
    "# Alternatively you can load the data from file\n",
    "#data_path = 'data.npz' # path to the .npz file storing the data\n",
    "#data = np.load(data_path)\n",
    "\n",
    "# x is a Numpy array of shape (n_samples, n_features) with the inputs\n",
    "x = data.f.x\n",
    "# y is a Numpy array of shape (n_samples, ) with the targets\n",
    "y = data.f.y\n",
    "\n",
    "# T1\n",
    "LINE = '-'* 100\n",
    "print('T1' + LINE)\n",
    "\n",
    "ones = np.ones(shape=x.shape[0])\n",
    "cos_x1 = np.cos(x[:,0])\n",
    "tanh_x1 = np.tanh(x[:,0])\n",
    "x2_squared = np.square(x[:,1])\n",
    "X = np.vstack((ones, x[:,0], x[:,1], cos_x1, x2_squared, tanh_x1))\n",
    "Y = y\n",
    "\n",
    "# generate train set following ratio from lectures (70 train, 15 validation, 15 test)\n",
    "from sklearn.model_selection import train_test_split\n",
    "X_train, X_test, Y_train, Y_test = train_test_split(X, Y, train_size=0.7, shuffle=True, random_state=20020309)\n",
    "\n",
    "from sklearn.linear_model import LinearRegression\n",
    "lin_regression = LinearRegression(fit_intercept=True)\n",
    "lin_regression.fit(X_train, Y_train)\n",
    "theta_hat = lin_regression.coef_\n",
    "\n",
    "print(\"theta: \")\n",
    "print(lin_regression.coef_)\n",
    "print(\"Mean squared error: \")\n",
    "\n",
    "# T2\n",
    "\n",
    "print(\"Everything useful\")\n",
    "\n",
    "# T3 (Bonus)\n",
    "\n",
    "print(\"Everything useful\")"
   ],
   "outputs": [
    {
     "name": "stdout",
     "output_type": "stream",
     "text": [
      "T1----------------------------------------------------------------------------------------------------\n"
     ]
    }
   ],
   "execution_count": null
  },
  {
   "cell_type": "code",
   "source": [
    "# Import libraries\n",
    "import joblib\n",
    "import io\n",
    "import requests\n",
    "import torch\n",
    "import numpy as np\n",
    "\n",
    "def evaluate_predictions(y_true, y_pred):\n",
    "    \"\"\"\n",
    "    Evaluates the mean squared error between the values in y_true and the values\n",
    "    in y_pred.\n",
    "    ### YOU CAN NOT EDIT THIS FUNCTION ###\n",
    "    :param y_true: Numpy array, the true target values from the test set;\n",
    "    :param y_pred: Numpy array, the values predicted by your model.\n",
    "    :return: float, the mean squared error between the two arrays.\n",
    "    \"\"\"\n",
    "    assert y_true.shape == y_pred.shape\n",
    "    return ((y_true - y_pred) ** 2).mean()\n",
    "\n",
    "\n",
    "def load_model(filename):\n",
    "    \"\"\"\n",
    "    Loads a torch model saved.\n",
    "    This is just an example, you can write your own function to load the model.\n",
    "    Some examples can be found in src/utils.py.\n",
    "    :param filename: string, path to the file storing the model.\n",
    "    :return: the model.\n",
    "    \"\"\"\n",
    "    model = torch.jit.load(filename)\n",
    "\n",
    "    return model\n",
    "\n",
    "# Load the data\n",
    "# This will be replaced with our private test data when grading the assignment\n",
    "\n",
    "# Load data from url\n",
    "url = 'https://drive.switch.ch/index.php/s/Wp0I2gb33mhERFN/download'\n",
    "response = requests.get(url)\n",
    "data = np.load(io.BytesIO(response.content))\n",
    "\n",
    "# Alternatively yo can load the data from file\n",
    "#data_path = 'data_bonus_test.npz'\n",
    "#data = np.load(data_path)\n",
    "\n",
    "# x is a Numpy array of shape (n_samples, n_features) with the inputs\n",
    "x = torch.tensor(data.f.x, dtype=torch.float32)\n",
    "# y is a Numpy array of shape (n_samples, ) with the targets\n",
    "y =  torch.tensor(data.f.y,dtype=torch.float32).reshape(-1, 1)\n",
    "\n",
    "# Load the trained model\n",
    "baseline_model_path = 'baseline.pt'\n",
    "baseline_model = load_model(baseline_model_path)\n",
    "\n",
    "# Predict on the given samples\n",
    "y_pred_ours = baseline_model(x)\n",
    "\n",
    "############################################################################\n",
    "# STOP EDITABLE SECTION: DO NOT modify anything above this point.\n",
    "############################################################################\n",
    "\n",
    "############################################################################\n",
    "# ADD HERE YOUR CODE TO READ MODEL OF TASK 3\n",
    "############################################################################\n",
    "\n",
    "# Load the trained model\n",
    "baseline_model_path = 'YOUR_MODEL_PATH'\n",
    "baseline_model =  ...   # LOAD YOU MODEL and predict x\n",
    "# Predict on the given samples FROM YOUR MODEL\n",
    "y_pred_yours = ...\n",
    "\n",
    "\n",
    "############################################################################\n",
    "# STOP EDITABLE SECTION: do not modify anything below this point.\n",
    "############################################################################\n",
    "\n",
    "# Evaluate the prediction using MSE\n",
    "mse = evaluate_predictions(y_pred_yours, y)\n",
    "print(f'MSE on whole dataset: {mse}')\n",
    "\n",
    "# NOTE: NOW THIS CELL IS NOT WORKING SINCE YOU NEED TO CHANGE THE INPUT.\n",
    "# DO IT AND EVERYTHING RUNS SMOOTH"
   ],
   "metadata": {
    "collapsed": false,
    "ExecuteTime": {
     "end_time": "2024-05-02T10:20:22.992488Z",
     "start_time": "2024-05-02T10:20:22.507133Z"
    }
   },
   "id": "ff974a05601cd30",
   "outputs": [
    {
     "ename": "ValueError",
     "evalue": "The provided filename baseline.pt does not exist",
     "output_type": "error",
     "traceback": [
      "\u001B[0;31m---------------------------------------------------------------------------\u001B[0m",
      "\u001B[0;31mValueError\u001B[0m                                Traceback (most recent call last)",
      "Cell \u001B[0;32mIn[21], line 52\u001B[0m\n\u001B[1;32m     50\u001B[0m \u001B[38;5;66;03m# Load the trained model\u001B[39;00m\n\u001B[1;32m     51\u001B[0m baseline_model_path \u001B[38;5;241m=\u001B[39m \u001B[38;5;124m'\u001B[39m\u001B[38;5;124mbaseline.pt\u001B[39m\u001B[38;5;124m'\u001B[39m\n\u001B[0;32m---> 52\u001B[0m baseline_model \u001B[38;5;241m=\u001B[39m \u001B[43mload_model\u001B[49m\u001B[43m(\u001B[49m\u001B[43mbaseline_model_path\u001B[49m\u001B[43m)\u001B[49m\n\u001B[1;32m     54\u001B[0m \u001B[38;5;66;03m# Predict on the given samples\u001B[39;00m\n\u001B[1;32m     55\u001B[0m y_pred_ours \u001B[38;5;241m=\u001B[39m baseline_model(x)\n",
      "Cell \u001B[0;32mIn[21], line 29\u001B[0m, in \u001B[0;36mload_model\u001B[0;34m(filename)\u001B[0m\n\u001B[1;32m     21\u001B[0m \u001B[38;5;28;01mdef\u001B[39;00m \u001B[38;5;21mload_model\u001B[39m(filename):\n\u001B[1;32m     22\u001B[0m \u001B[38;5;250m    \u001B[39m\u001B[38;5;124;03m\"\"\"\u001B[39;00m\n\u001B[1;32m     23\u001B[0m \u001B[38;5;124;03m    Loads a torch model saved.\u001B[39;00m\n\u001B[1;32m     24\u001B[0m \u001B[38;5;124;03m    This is just an example, you can write your own function to load the model.\u001B[39;00m\n\u001B[0;32m   (...)\u001B[0m\n\u001B[1;32m     27\u001B[0m \u001B[38;5;124;03m    :return: the model.\u001B[39;00m\n\u001B[1;32m     28\u001B[0m \u001B[38;5;124;03m    \"\"\"\u001B[39;00m\n\u001B[0;32m---> 29\u001B[0m     model \u001B[38;5;241m=\u001B[39m \u001B[43mtorch\u001B[49m\u001B[38;5;241;43m.\u001B[39;49m\u001B[43mjit\u001B[49m\u001B[38;5;241;43m.\u001B[39;49m\u001B[43mload\u001B[49m\u001B[43m(\u001B[49m\u001B[43mfilename\u001B[49m\u001B[43m)\u001B[49m\n\u001B[1;32m     31\u001B[0m     \u001B[38;5;28;01mreturn\u001B[39;00m model\n",
      "File \u001B[0;32m~/.cache/pypoetry/virtualenvs/assignment1-jeferson-moralesmariciano-VGzloQfx-py3.10/lib/python3.10/site-packages/torch/jit/_serialization.py:148\u001B[0m, in \u001B[0;36mload\u001B[0;34m(f, map_location, _extra_files, _restore_shapes)\u001B[0m\n\u001B[1;32m    146\u001B[0m \u001B[38;5;28;01mif\u001B[39;00m \u001B[38;5;28misinstance\u001B[39m(f, (\u001B[38;5;28mstr\u001B[39m, os\u001B[38;5;241m.\u001B[39mPathLike)):\n\u001B[1;32m    147\u001B[0m     \u001B[38;5;28;01mif\u001B[39;00m \u001B[38;5;129;01mnot\u001B[39;00m os\u001B[38;5;241m.\u001B[39mpath\u001B[38;5;241m.\u001B[39mexists(f):  \u001B[38;5;66;03m# type: ignore[type-var]\u001B[39;00m\n\u001B[0;32m--> 148\u001B[0m         \u001B[38;5;28;01mraise\u001B[39;00m \u001B[38;5;167;01mValueError\u001B[39;00m(\u001B[38;5;124mf\u001B[39m\u001B[38;5;124m\"\u001B[39m\u001B[38;5;124mThe provided filename \u001B[39m\u001B[38;5;132;01m{\u001B[39;00mf\u001B[38;5;132;01m}\u001B[39;00m\u001B[38;5;124m does not exist\u001B[39m\u001B[38;5;124m\"\u001B[39m)  \u001B[38;5;66;03m# type: ignore[str-bytes-safe]\u001B[39;00m\n\u001B[1;32m    149\u001B[0m     \u001B[38;5;28;01mif\u001B[39;00m os\u001B[38;5;241m.\u001B[39mpath\u001B[38;5;241m.\u001B[39misdir(f):\n\u001B[1;32m    150\u001B[0m         \u001B[38;5;28;01mraise\u001B[39;00m \u001B[38;5;167;01mValueError\u001B[39;00m(\u001B[38;5;124mf\u001B[39m\u001B[38;5;124m\"\u001B[39m\u001B[38;5;124mThe provided filename \u001B[39m\u001B[38;5;132;01m{\u001B[39;00mf\u001B[38;5;132;01m}\u001B[39;00m\u001B[38;5;124m is a directory\u001B[39m\u001B[38;5;124m\"\u001B[39m)  \u001B[38;5;66;03m# type: ignore[str-bytes-safe]\u001B[39;00m\n",
      "\u001B[0;31mValueError\u001B[0m: The provided filename baseline.pt does not exist"
     ]
    }
   ],
   "execution_count": 21
  },
  {
   "metadata": {
    "ExecuteTime": {
     "end_time": "2024-04-28T23:52:31.781399Z",
     "start_time": "2024-04-28T23:52:28.515571Z"
    }
   },
   "cell_type": "code",
   "source": "import torch",
   "id": "cf17edad7b92df51",
   "outputs": [],
   "execution_count": 2
  },
  {
   "metadata": {
    "ExecuteTime": {
     "end_time": "2024-04-29T00:04:35.762091Z",
     "start_time": "2024-04-29T00:04:35.756826Z"
    }
   },
   "cell_type": "code",
   "source": [
    "# using my GPU NVIDIA RTX 3070 with CUDA integration\n",
    "is_cuda_available = torch.cuda.is_available()\n",
    "device_id = torch.cuda.current_device()\n",
    "num_gpu = torch.cuda.device_count()\n",
    "device_name = torch.cuda.get_device_name(device_id)\n",
    "print(is_cuda_available, device_id, num_gpu, device_name)\n",
    "print(torch.device('cuda:0' if is_cuda_available else 'cpu'))"
   ],
   "id": "ff91bb7bf2430c20",
   "outputs": [
    {
     "name": "stdout",
     "output_type": "stream",
     "text": [
      "True 0 1 NVIDIA GeForce RTX 3070\n",
      "cuda:0\n"
     ]
    }
   ],
   "execution_count": 14
  }
 ],
 "metadata": {
  "kernelspec": {
   "display_name": "Python 3",
   "language": "python",
   "name": "python3"
  },
  "language_info": {
   "codemirror_mode": {
    "name": "ipython",
    "version": 2
   },
   "file_extension": ".py",
   "mimetype": "text/x-python",
   "name": "python",
   "nbconvert_exporter": "python",
   "pygments_lexer": "ipython2",
   "version": "2.7.6"
  }
 },
 "nbformat": 4,
 "nbformat_minor": 5
}
